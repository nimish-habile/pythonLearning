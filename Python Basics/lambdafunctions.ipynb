{
 "cells": [
  {
   "cell_type": "code",
   "execution_count": null,
   "metadata": {},
   "outputs": [],
   "source": [
    "#lambda functions\n",
    "#syntax:\n",
    "# variable_name = lambda inputs:expression"
   ]
  },
  {
   "cell_type": "code",
   "execution_count": 1,
   "metadata": {},
   "outputs": [
    {
     "data": {
      "text/plain": [
       "81"
      ]
     },
     "execution_count": 1,
     "metadata": {},
     "output_type": "execute_result"
    }
   ],
   "source": [
    "x=lambda x:x**2\n",
    "x(9)"
   ]
  },
  {
   "cell_type": "code",
   "execution_count": 2,
   "metadata": {},
   "outputs": [
    {
     "data": {
      "text/plain": [
       "7"
      ]
     },
     "execution_count": 2,
     "metadata": {},
     "output_type": "execute_result"
    }
   ],
   "source": [
    "a=lambda x, y : x+y\n",
    "a(3, 4)"
   ]
  },
  {
   "cell_type": "code",
   "execution_count": 3,
   "metadata": {},
   "outputs": [],
   "source": [
    "#difference b/w normal and lambda functions\n",
    "# 1. Lambda has no return value\n",
    "# 2. One Line\n",
    "# 3. Not used for code reusability\n",
    "# 4. No name\n",
    "\n",
    "#Why use\n",
    "#These are used with higher order functions(with need functions in input)"
   ]
  },
  {
   "cell_type": "code",
   "execution_count": 6,
   "metadata": {},
   "outputs": [
    {
     "data": {
      "text/plain": [
       "False"
      ]
     },
     "execution_count": 6,
     "metadata": {},
     "output_type": "execute_result"
    }
   ],
   "source": [
    "b = lambda x:x[0]=='a'\n",
    "b('apple')\n",
    "b('banana')"
   ]
  },
  {
   "cell_type": "code",
   "execution_count": 9,
   "metadata": {},
   "outputs": [
    {
     "data": {
      "text/plain": [
       "'Odd'"
      ]
     },
     "execution_count": 9,
     "metadata": {},
     "output_type": "execute_result"
    }
   ],
   "source": [
    "b= lambda x:\"Even\" if x%2==0 else \"Odd\"\n",
    "b(2)\n",
    "b(3)"
   ]
  },
  {
   "cell_type": "code",
   "execution_count": 10,
   "metadata": {},
   "outputs": [
    {
     "name": "stdout",
     "output_type": "stream",
     "text": [
      "176\n",
      "129\n",
      "144\n"
     ]
    }
   ],
   "source": [
    "def return_sum(func, L): #this is a higher order function\n",
    "    result = 0\n",
    "    for i in L:\n",
    "        if func(i):\n",
    "            result=result+i\n",
    "    return result\n",
    "\n",
    "L=[11, 14, 21, 23, 56, 78, 45, 29, 28]\n",
    "\n",
    "x=lambda x:x%2==0\n",
    "y=lambda x:x%2==1\n",
    "z=lambda x:x%3==0\n",
    "\n",
    "print(return_sum(x, L))\n",
    "print(return_sum(y, L))\n",
    "print(return_sum(z, L))"
   ]
  },
  {
   "cell_type": "code",
   "execution_count": 13,
   "metadata": {},
   "outputs": [
    {
     "data": {
      "text/plain": [
       "[False, True, False, True, False, True]"
      ]
     },
     "execution_count": 13,
     "metadata": {},
     "output_type": "execute_result"
    }
   ],
   "source": [
    "#Map\n",
    "#map(funct, iterable)\n",
    "\n",
    "L=[1, 2, 3, 4, 5, 6]\n",
    "map(lambda x:x*2, L) #this returns a map object, so we have to typecast it into a List\n",
    "list(map(lambda x:x*2, L)) \n",
    "list(map(lambda x:x%2==0, L))"
   ]
  },
  {
   "cell_type": "code",
   "execution_count": 15,
   "metadata": {},
   "outputs": [
    {
     "data": {
      "text/plain": [
       "[5, 6]"
      ]
     },
     "execution_count": 15,
     "metadata": {},
     "output_type": "execute_result"
    }
   ],
   "source": [
    "#Filter\n",
    "list(filter(lambda x:x>4, L))"
   ]
  },
  {
   "cell_type": "code",
   "execution_count": 18,
   "metadata": {},
   "outputs": [
    {
     "data": {
      "text/plain": [
       "11"
      ]
     },
     "execution_count": 18,
     "metadata": {},
     "output_type": "execute_result"
    }
   ],
   "source": [
    "#Reduce\n",
    "import functools\n",
    "functools.reduce(lambda x, y:x+y, L)\n",
    "\n",
    "L=[11, 14, 21, 23, 56, 78, 45, 29, 28]\n",
    "functools.reduce(lambda x, y:x if x>y else y, L)\n",
    "functools.reduce(lambda x, y:x if x<y else y, L)"
   ]
  },
  {
   "cell_type": "code",
   "execution_count": 22,
   "metadata": {},
   "outputs": [
    {
     "data": {
      "text/plain": [
       "[0, 4, 16, 36, 64]"
      ]
     },
     "execution_count": 22,
     "metadata": {},
     "output_type": "execute_result"
    }
   ],
   "source": [
    "#List comprehension: when you create a list from another list\n",
    "L=[1, 2, 3, 4, 5, 6, 7]\n",
    "L1=[item*2 for item in L]\n",
    "L1\n",
    "\n",
    "L2=[i**2 for i in range(10)]\n",
    "L2\n",
    "\n",
    "L3=[i**2 for i in range(10) if i%2==0]\n",
    "L3"
   ]
  },
  {
   "cell_type": "code",
   "execution_count": 27,
   "metadata": {},
   "outputs": [
    {
     "data": {
      "text/plain": [
       "{1: 1, 2: 4, 3: 9, 4: 16, 5: 25, 6: 36, 7: 49}"
      ]
     },
     "execution_count": 27,
     "metadata": {},
     "output_type": "execute_result"
    }
   ],
   "source": [
    "#dictionary comprehension\n",
    "D={\"Name\":\"Nimish\", \"Gender\":\"Male\", \"Age\":30}\n",
    "D.items() #returns a list of tuple where each tuple has key value pairs\n",
    "\n",
    "D1={key:value for key, value in D.items() if len(key)>3}\n",
    "D1\n",
    "\n",
    "D2={item:item**2 for item in L}\n",
    "D2"
   ]
  },
  {
   "cell_type": "code",
   "execution_count": null,
   "metadata": {},
   "outputs": [],
   "source": []
  }
 ],
 "metadata": {
  "kernelspec": {
   "display_name": "Python 3",
   "language": "python",
   "name": "python3"
  },
  "language_info": {
   "codemirror_mode": {
    "name": "ipython",
    "version": 3
   },
   "file_extension": ".py",
   "mimetype": "text/x-python",
   "name": "python",
   "nbconvert_exporter": "python",
   "pygments_lexer": "ipython3",
   "version": "3.8.10"
  }
 },
 "nbformat": 4,
 "nbformat_minor": 2
}
