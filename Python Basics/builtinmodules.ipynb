{
 "cells": [
  {
   "cell_type": "code",
   "execution_count": 1,
   "metadata": {},
   "outputs": [
    {
     "name": "stdout",
     "output_type": "stream",
     "text": [
      "\n",
      "Please wait a moment while I gather a list of all available modules...\n",
      "\n",
      "DEBUG:pip._internal.vcs.versioncontrol:Registered VCS backend: bzr\n",
      "DEBUG:pip._internal.vcs.versioncontrol:Registered VCS backend: git\n",
      "DEBUG:pip._internal.vcs.versioncontrol:Registered VCS backend: hg\n",
      "DEBUG:pip._internal.vcs.versioncontrol:Registered VCS backend: svn\n",
      "Appearance          _sysconfigdata__linux_x86_64-linux-gnu getpass             queue\n",
      "AptUrl              _sysconfigdata__x86_64-linux-gnu gettext             quopri\n",
      "AtspiStateTracker   _tdb_text           gi                  random\n",
      "AutoHide            _testbuffer         glob                re\n",
      "AutoShow            _testcapi           grp                 readline\n",
      "ClickSimulator      _testimportmultiple grpc                reportlab\n",
      "CommandNotFound     _testinternalcapi   gzip                reprlib\n",
      "Config              _testmultiphase     hashlib             requests\n",
      "ConfigUtils         _thread             heapq               requests_file\n",
      "Crypto              _threading_local    hmac                requests_unixsocket\n",
      "DBusUtils           _tracemalloc        hpmudext            resource\n",
      "Exceptions          _uuid               html                retrying\n",
      "GlobalKeyListener   _version            html5lib            rlcompleter\n",
      "HardwareSensorTracker _warnings           http                runpy\n",
      "IPython             _weakref            httplib2            samba\n",
      "IconPalette         _weakrefset         icu                 scanext\n",
      "Indicator           _xxsubinterpreters  idna                sched\n",
      "KbdWindow           _xxtestfuzz         ifaddr              secrets\n",
      "KeyCommon           _yaml               imaplib             secretstorage\n",
      "KeyGtk              abc                 imdb                select\n",
      "Keyboard            aifc                imghdr              selectors\n",
      "KeyboardPopups      antigravity         imp                 setproctitle\n",
      "KeyboardWidget      appdirs             importlib           settings\n",
      "LanguageSupport     apport              importlib_metadata  setuptools\n",
      "Layout              apport_python_hook  inspect             shelve\n",
      "LayoutLoaderSVG     apt                 io                  shlex\n",
      "LayoutView          apt_clone           ipaddr              shutil\n",
      "NvidiaDetector      apt_inst            ipaddress           signal\n",
      "Onboard             apt_pkg             ipykernel           simplejson\n",
      "OnboardGtk          aptdaemon           ipykernel_launcher  site\n",
      "PAM                 aptsources          itertools           sitecustomize\n",
      "PIL                 argparse            jedi                six\n",
      "PyICU               array               json                smtpd\n",
      "Quirks              ast                 jupyter             smtplib\n",
      "Scanner             asttokens           jupyter_client      sndhdr\n",
      "SnippetView         asynchat            jupyter_core        socket\n",
      "Sound               asyncio             jwt                 socketserver\n",
      "SpellChecker        asyncore            keyring             soupsieve\n",
      "TextChanges         atexit              keyword             speechd\n",
      "TextContext         audioop             launchpadlib        speechd_config\n",
      "TextDomain          backcall            ldb                 spwd\n",
      "Timer               base64              lib2to3             sqlite3\n",
      "TouchHandles        bdb                 linecache           sre_compile\n",
      "TouchInput          binascii            locale              sre_constants\n",
      "UDevTracker         binhex              lockfile            sre_parse\n",
      "UbuntuDrivers       bisect              logging             ssl\n",
      "Version             blinker             louis               stack_data\n",
      "WPEngine            brlapi              lsb_release         stat\n",
      "WindowUtils         bs4                 lzma                statistics\n",
      "WordSuggestions     builtins            macaroonbakery      string\n",
      "XInput              bz2                 magic               stringprep\n",
      "Xlib                cProfile            mailbox             struct\n",
      "__future__          cairo               mailcap             subprocess\n",
      "_abc                calendar            mako                sunau\n",
      "_ast                canonical_equivalents markupsafe          symbol\n",
      "_asyncio            caribou             marshal             symtable\n",
      "_bisect             certifi             math                sys\n",
      "_blake2             cgi                 matplotlib_inline   sysconfig\n",
      "_bootlocale         cgitb               mimetypes           syslog\n",
      "_bz2                chardet             mintcommon          systemd\n",
      "_cffi_backend       chunk               mintreport          tabnanny\n",
      "_codecs             cinnamon            mmap                talloc\n",
      "_codecs_cn          click               modulefinder        tarfile\n",
      "_codecs_hk          cmath               more_itertools      tdb\n",
      "_codecs_iso2022     cmd                 msgpack             telnetlib\n",
      "_codecs_jp          code                multiprocessing     tempfile\n",
      "_codecs_kr          codecs              nacl                termios\n",
      "_codecs_tw          codeop              nest_asyncio        test\n",
      "_collections        collections         netaddr             textwrap\n",
      "_collections_abc    colorama            netifaces           this\n",
      "_compat_pickle      colorsys            netrc               threading\n",
      "_compression        comm                nis                 time\n",
      "_contextvars        compileall          nntplib             timeit\n",
      "_crypt              concurrent          ntpath              tinycss2\n",
      "_csv                configobj           nturl2path          tldextract\n",
      "_ctypes             configparser        numbers             token\n",
      "_ctypes_test        contextlib          oauthlib            tokenize\n",
      "_curses             contextlib2         opcode              toml\n",
      "_curses_panel       contextvars         operator            tornado\n",
      "_datetime           copy                optparse            trace\n",
      "_dbm                copyreg             orca                traceback\n",
      "_dbus_bindings      crypt               os                  tracemalloc\n",
      "_dbus_glib_bindings cryptography        osk                 traitlets\n",
      "_decimal            csv                 ossaudiodev         tty\n",
      "_dummy_thread       ctypes              packaging           turtle\n",
      "_elementtree        cups                parser              types\n",
      "_functools          cupsext             parso               typing\n",
      "_gdbm               cupshelpers         parted              typing_extensions\n",
      "_hashlib            curl                pathlib             ufw\n",
      "_heapq              curses              pcardext            unicodedata\n",
      "_icu                dataclasses         pdb                 unidecode\n",
      "_imp                datetime            pexpect             unittest\n",
      "_io                 dateutil            pickle              uno\n",
      "_json               dbm                 pickleshare         unohelper\n",
      "_ldb_text           dbus                pickletools         urllib\n",
      "_locale             deb822              pip                 urllib3\n",
      "_lsprof             debian              pipes               utils\n",
      "_lzma               debian_bundle       pkg_resources       uu\n",
      "_markupbase         debugpy             pkgutil             uuid\n",
      "_md5                decimal             platform            validate\n",
      "_multibytecodec     decorator           platformdirs        venv\n",
      "_multiprocessing    defer               plistlib            virtualenv\n",
      "_opcode             definitions         poplib              wadllib\n",
      "_operator           difflib             posix               warnings\n",
      "_osx_support        dis                 posixpath           wave\n",
      "_ped                distlib             pprint              wcwidth\n",
      "_pickle             distro              problem_report      weakref\n",
      "_posixshmem         distutils           profile             webbrowser\n",
      "_posixsubprocess    doctest             prompt_toolkit      webencodings\n",
      "_py_abc             dummy_threading     pstats              wheel\n",
      "_pydecimal          easy_install        psutil              wsgiref\n",
      "_pyio               email               pty                 xapp\n",
      "_queue              encodings           ptyprocess          xdg\n",
      "_random             entrypoints         pure_eval           xdrlib\n",
      "_sha1               enum                pwd                 xkit\n",
      "_sha256             errno               py_compile          xlrd\n",
      "_sha3               executing           pyatspi             xml\n",
      "_sha512             faulthandler        pyclbr              xmlrpc\n",
      "_signal             fcntl               pycurl              xxlimited\n",
      "_sitebuiltins       filecmp             pydoc               xxsubtype\n",
      "_socket             fileinput           pydoc_data          yaml\n",
      "_sqlite3            filelock            pyexpat             youtube_dl\n",
      "_sre                fnmatch             pygments            zipapp\n",
      "_ssl                formatter           pygtkcompat         zipfile\n",
      "_stat               fractions           pyinotify           zipimport\n",
      "_statistics         ftplib              pymacaroons         zipp\n",
      "_string             functools           pyparsing           zlib\n",
      "_strptime           gc                  pypredict           zmq\n",
      "_struct             genericpath         pyrfc3339           \n",
      "_symtable           getopt              pytz                \n",
      "\n",
      "Enter any module name to get more help.  Or, type \"modules spam\" to search\n",
      "for modules whose name or summary contain the string \"spam\".\n",
      "\n"
     ]
    }
   ],
   "source": [
    "help('modules')"
   ]
  },
  {
   "cell_type": "code",
   "execution_count": 8,
   "metadata": {},
   "outputs": [
    {
     "data": {
      "text/plain": [
       "3.0"
      ]
     },
     "execution_count": 8,
     "metadata": {},
     "output_type": "execute_result"
    }
   ],
   "source": [
    "import math\n",
    "math.pi\n",
    "math.e\n",
    "math.factorial(4)\n",
    "math.ceil(6.3)\n",
    "math.floor(6.3)\n",
    "math.sqrt(7)\n",
    "math.sqrt(9)"
   ]
  },
  {
   "cell_type": "code",
   "execution_count": 9,
   "metadata": {},
   "outputs": [
    {
     "data": {
      "text/plain": [
       "49"
      ]
     },
     "execution_count": 9,
     "metadata": {},
     "output_type": "execute_result"
    }
   ],
   "source": [
    "import random\n",
    "random.randint(1, 100)"
   ]
  },
  {
   "cell_type": "code",
   "execution_count": 10,
   "metadata": {},
   "outputs": [
    {
     "data": {
      "text/plain": [
       "[3, 1, 4, 5, 2]"
      ]
     },
     "execution_count": 10,
     "metadata": {},
     "output_type": "execute_result"
    }
   ],
   "source": [
    "a=[1, 2, 3, 4, 5]\n",
    "random.shuffle(a)\n",
    "a\n",
    "#it shuffles permanently, does ot make a copy and then do it"
   ]
  },
  {
   "cell_type": "code",
   "execution_count": 14,
   "metadata": {},
   "outputs": [
    {
     "data": {
      "text/plain": [
       "'Fri Jun 21 14:48:09 2024'"
      ]
     },
     "execution_count": 14,
     "metadata": {},
     "output_type": "execute_result"
    }
   ],
   "source": [
    "import time\n",
    "time.time()\n",
    "time.ctime()"
   ]
  },
  {
   "cell_type": "code",
   "execution_count": 17,
   "metadata": {},
   "outputs": [
    {
     "name": "stdout",
     "output_type": "stream",
     "text": [
      "hello\n",
      "world\n"
     ]
    }
   ],
   "source": [
    "print(\"hello\")\n",
    "time.sleep(1)\n",
    "print(\"world\")"
   ]
  },
  {
   "cell_type": "code",
   "execution_count": 19,
   "metadata": {},
   "outputs": [
    {
     "data": {
      "text/plain": [
       "['pythonbasisc.ipynb',\n",
       " 'builtinfunctions.ipynb',\n",
       " 'literals.ipynb',\n",
       " 'builtinmodules.ipynb',\n",
       " 'inputt.ipynb',\n",
       " 'operators.ipynb',\n",
       " '.git',\n",
       " 'statements.ipynb']"
      ]
     },
     "execution_count": 19,
     "metadata": {},
     "output_type": "execute_result"
    }
   ],
   "source": [
    "import os\n",
    "os.getcwd()\n",
    "os.listdir()"
   ]
  },
  {
   "cell_type": "code",
   "execution_count": null,
   "metadata": {},
   "outputs": [],
   "source": []
  }
 ],
 "metadata": {
  "kernelspec": {
   "display_name": "Python 3",
   "language": "python",
   "name": "python3"
  },
  "language_info": {
   "codemirror_mode": {
    "name": "ipython",
    "version": 3
   },
   "file_extension": ".py",
   "mimetype": "text/x-python",
   "name": "python",
   "nbconvert_exporter": "python",
   "pygments_lexer": "ipython3",
   "version": "3.8.10"
  }
 },
 "nbformat": 4,
 "nbformat_minor": 2
}
